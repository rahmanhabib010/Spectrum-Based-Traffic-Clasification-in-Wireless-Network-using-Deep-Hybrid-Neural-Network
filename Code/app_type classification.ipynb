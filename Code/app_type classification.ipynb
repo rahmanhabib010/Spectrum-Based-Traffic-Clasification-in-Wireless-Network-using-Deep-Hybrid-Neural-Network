{
 "cells": [
  {
   "cell_type": "code",
   "execution_count": 1,
   "id": "3c1e654d",
   "metadata": {},
   "outputs": [],
   "source": [
    "import matplotlib as mpl\n",
    "import matplotlib.pyplot as plt\n",
    "import numpy as np\n",
    "import pandas as pd\n",
    "import seaborn as sns\n",
    "import tensorflow as tf\n",
    "\n",
    "#design network\n",
    "from keras.layers import Conv1D, MaxPooling1D, Flatten, Dense, Input, Conv2D\n",
    "\n",
    "from tensorflow.keras.layers import Conv2D, BatchNormalization, Activation, Flatten, Dense, Dropout, Average, Add, MaxPooling2D, SimpleRNN, Concatenate, GlobalAveragePooling2D, Reshape, GRU\n",
    "from keras import Model\n",
    "from tensorflow.keras.utils import to_categorical"
   ]
  },
  {
   "cell_type": "code",
   "execution_count": 2,
   "id": "b9b95d7c",
   "metadata": {},
   "outputs": [],
   "source": [
    "# from helpers import pre_processing_wlan_utils as preprocess_utils\n",
    "# from helpers import classifier_wlan_spectral_utils as classifier_utils"
   ]
  },
  {
   "cell_type": "code",
   "execution_count": 3,
   "id": "0568eabb",
   "metadata": {},
   "outputs": [],
   "source": [
    "# import importlib\n",
    "# # importlib.reload(tr_models)\n",
    "# importlib.reload(classifier_utils)\n",
    "# importlib.reload(preprocess_utils)"
   ]
  },
  {
   "cell_type": "code",
   "execution_count": 4,
   "id": "4ba17994",
   "metadata": {},
   "outputs": [],
   "source": [
    "# task = 'app-type'\n",
    "# label = preprocess_utils.label_index[task]\n",
    "# num_classes = preprocess_utils.num_classes[task]\n",
    "# labels_string = preprocess_utils.labels_string[task]\n",
    "# print(\"Label id: \", label)\n",
    "# print(\"Num classes in that label: \", num_classes)\n",
    "# print(\"Labels: \", labels_string)"
   ]
  },
  {
   "cell_type": "code",
   "execution_count": 5,
   "id": "3f73f2f1",
   "metadata": {},
   "outputs": [],
   "source": [
    "# if (task == 'app') or (task == 'app-type'):\n",
    "#     num_classes = num_classes-1\n",
    "#     labels_string = labels_string[0:num_classes]\n",
    "#     print(\"Label id: \", label)\n",
    "#     print(\"Num classes in that label: \", num_classes)\n",
    "#     print(\"Labels: \", labels_string)"
   ]
  },
  {
   "cell_type": "code",
   "execution_count": 6,
   "id": "4501be79",
   "metadata": {},
   "outputs": [],
   "source": [
    "# seq_length = 3000\n",
    "\n",
    "# #Set type of padding. \n",
    "# padding = 'post'\n",
    "\n",
    "# #Set path to dataset folder. All the files from the dataset can be downloaded from https://zenodo.org/record/5208201\n",
    "# dataset_folder = './waveforms/'\n",
    "\n",
    "# #Set name of dataset file. In this case we are using once of the balanced dataset (filename_balanced.mat)\n",
    "# dataset_filename = 'waveforms_2G_n_'+task+'_balanced.mat'"
   ]
  },
  {
   "cell_type": "code",
   "execution_count": 7,
   "id": "2b218c18",
   "metadata": {
    "scrolled": true
   },
   "outputs": [],
   "source": [
    "# Xraw, Yraw = classifier_utils.get_raw_xy_spectrum(dataset_folder,dataset_filename)"
   ]
  },
  {
   "cell_type": "code",
   "execution_count": 8,
   "id": "8f3c1e43",
   "metadata": {},
   "outputs": [],
   "source": [
    "# print(\"Padding/Truncating sequence to a length of \",str(seq_length))\n",
    "# X = classifier_utils.pad_or_trunc_x_and_scale(Xraw, seq_length, padding, scale=True)"
   ]
  },
  {
   "cell_type": "code",
   "execution_count": 9,
   "id": "4ad55c3f",
   "metadata": {},
   "outputs": [],
   "source": [
    "# plt.plot(X[0,0,:])"
   ]
  },
  {
   "cell_type": "code",
   "execution_count": 10,
   "id": "aac3ff81",
   "metadata": {},
   "outputs": [],
   "source": [
    "# X.shape"
   ]
  },
  {
   "cell_type": "code",
   "execution_count": 11,
   "id": "67807bb8",
   "metadata": {},
   "outputs": [],
   "source": [
    "# print(\"Generate one-shot labels\")\n",
    "# Y = classifier_utils.get_one_hot_labels(Yraw, num_classes, label)"
   ]
  },
  {
   "cell_type": "code",
   "execution_count": 12,
   "id": "d83eb4af",
   "metadata": {},
   "outputs": [
    {
     "name": "stdout",
     "output_type": "stream",
     "text": [
      "(117159, 2, 3000)\n",
      "(117159, 3)\n"
     ]
    }
   ],
   "source": [
    "# from numpy import savez_compressed\n",
    "# savez_compressed('x_app_type.npz', X)\n",
    "# savez_compressed('y_app_type.npz', Y)\n",
    "\n",
    "X= np.load('x_app_type.npz')\n",
    "X=X['arr_0']\n",
    "Y= np.load('y_app_type.npz')\n",
    "Y=Y['arr_0']\n",
    "print(X.shape)\n",
    "print(Y.shape)"
   ]
  },
  {
   "cell_type": "code",
   "execution_count": 13,
   "id": "5bd171ef",
   "metadata": {},
   "outputs": [],
   "source": [
    "from sklearn.model_selection import train_test_split\n",
    "\n",
    "X_train, X_test, y_train, y_test = train_test_split(X, Y, test_size=0.2)"
   ]
  },
  {
   "cell_type": "code",
   "execution_count": 14,
   "id": "2e25845e",
   "metadata": {},
   "outputs": [
    {
     "data": {
      "text/plain": [
       "(23432, 2, 3000)"
      ]
     },
     "execution_count": 14,
     "metadata": {},
     "output_type": "execute_result"
    }
   ],
   "source": [
    "X_test.shape"
   ]
  },
  {
   "cell_type": "code",
   "execution_count": 15,
   "id": "8419ff04",
   "metadata": {},
   "outputs": [],
   "source": [
    "# seed = 42\n",
    "# print(\"Performing data splitting\")\n",
    "# X_train, X_val, X_test, Y_train, Y_val, Y_test = classifier_utils.get_xy_4_training(X,Y,seed)\n",
    "# print(X_train.shape,X_val.shape, X_test.shape)"
   ]
  },
  {
   "cell_type": "code",
   "execution_count": 16,
   "id": "6ea0b266",
   "metadata": {},
   "outputs": [],
   "source": [
    "X_train=X_train.reshape((93727,3000,2,1))\n",
    "# X_val=X_val.reshape((7160,3000,2,1))\n",
    "X_test=X_test.reshape((23432,3000,2,1))"
   ]
  },
  {
   "cell_type": "code",
   "execution_count": 17,
   "id": "9352ddfd",
   "metadata": {},
   "outputs": [],
   "source": [
    "def conv_block(xin,f,k,p,d):\n",
    "    x=Conv2D(f,(k,1), activation=\"relu\", padding='same', kernel_initializer=\"glorot_normal\")(xin)\n",
    "    x=MaxPooling2D((p,p), padding='same')(x)\n",
    "    x=Dropout(d)(x)\n",
    "    x=BatchNormalization(axis=-1)(x)\n",
    "    return x"
   ]
  },
  {
   "cell_type": "code",
   "execution_count": 18,
   "id": "c2c46db5",
   "metadata": {},
   "outputs": [],
   "source": [
    "def clf_block(xin, n, d):\n",
    "    x=Dense(n, activation='relu')(xin)\n",
    "    x=Dropout(d)(x)\n",
    "    x=BatchNormalization(axis=-1)(x)\n",
    "    return x"
   ]
  },
  {
   "cell_type": "code",
   "execution_count": 19,
   "id": "6f104ae3",
   "metadata": {
    "scrolled": true
   },
   "outputs": [
    {
     "name": "stdout",
     "output_type": "stream",
     "text": [
      "Model: \"model\"\n",
      "__________________________________________________________________________________________________\n",
      " Layer (type)                   Output Shape         Param #     Connected to                     \n",
      "==================================================================================================\n",
      " input_1 (InputLayer)           [(None, 3000, 2, 1)  0           []                               \n",
      "                                ]                                                                 \n",
      "                                                                                                  \n",
      " conv2d (Conv2D)                (None, 3000, 2, 64)  2112        ['input_1[0][0]']                \n",
      "                                                                                                  \n",
      " max_pooling2d (MaxPooling2D)   (None, 1500, 1, 64)  0           ['conv2d[0][0]']                 \n",
      "                                                                                                  \n",
      " dropout (Dropout)              (None, 1500, 1, 64)  0           ['max_pooling2d[0][0]']          \n",
      "                                                                                                  \n",
      " batch_normalization (BatchNorm  (None, 1500, 1, 64)  256        ['dropout[0][0]']                \n",
      " alization)                                                                                       \n",
      "                                                                                                  \n",
      " conv2d_1 (Conv2D)              (None, 1500, 1, 64)  131136      ['batch_normalization[0][0]']    \n",
      "                                                                                                  \n",
      " max_pooling2d_1 (MaxPooling2D)  (None, 750, 1, 64)  0           ['conv2d_1[0][0]']               \n",
      "                                                                                                  \n",
      " dropout_1 (Dropout)            (None, 750, 1, 64)   0           ['max_pooling2d_1[0][0]']        \n",
      "                                                                                                  \n",
      " batch_normalization_1 (BatchNo  (None, 750, 1, 64)  256         ['dropout_1[0][0]']              \n",
      " rmalization)                                                                                     \n",
      "                                                                                                  \n",
      " conv2d_2 (Conv2D)              (None, 750, 1, 64)   131136      ['batch_normalization_1[0][0]']  \n",
      "                                                                                                  \n",
      " max_pooling2d_2 (MaxPooling2D)  (None, 375, 1, 64)  0           ['conv2d_2[0][0]']               \n",
      "                                                                                                  \n",
      " dropout_2 (Dropout)            (None, 375, 1, 64)   0           ['max_pooling2d_2[0][0]']        \n",
      "                                                                                                  \n",
      " batch_normalization_2 (BatchNo  (None, 375, 1, 64)  256         ['dropout_2[0][0]']              \n",
      " rmalization)                                                                                     \n",
      "                                                                                                  \n",
      " conv2d_3 (Conv2D)              (None, 375, 1, 64)   131136      ['batch_normalization_2[0][0]']  \n",
      "                                                                                                  \n",
      " max_pooling2d_3 (MaxPooling2D)  (None, 188, 1, 64)  0           ['conv2d_3[0][0]']               \n",
      "                                                                                                  \n",
      " dropout_3 (Dropout)            (None, 188, 1, 64)   0           ['max_pooling2d_3[0][0]']        \n",
      "                                                                                                  \n",
      " batch_normalization_3 (BatchNo  (None, 188, 1, 64)  256         ['dropout_3[0][0]']              \n",
      " rmalization)                                                                                     \n",
      "                                                                                                  \n",
      " conv2d_4 (Conv2D)              (None, 188, 1, 64)   131136      ['batch_normalization_3[0][0]']  \n",
      "                                                                                                  \n",
      " max_pooling2d_4 (MaxPooling2D)  (None, 94, 1, 64)   0           ['conv2d_4[0][0]']               \n",
      "                                                                                                  \n",
      " dropout_4 (Dropout)            (None, 94, 1, 64)    0           ['max_pooling2d_4[0][0]']        \n",
      "                                                                                                  \n",
      " batch_normalization_4 (BatchNo  (None, 94, 1, 64)   256         ['dropout_4[0][0]']              \n",
      " rmalization)                                                                                     \n",
      "                                                                                                  \n",
      " conv2d_5 (Conv2D)              (None, 94, 1, 64)    131136      ['batch_normalization_4[0][0]']  \n",
      "                                                                                                  \n",
      " max_pooling2d_5 (MaxPooling2D)  (None, 47, 1, 64)   0           ['conv2d_5[0][0]']               \n",
      "                                                                                                  \n",
      " dropout_5 (Dropout)            (None, 47, 1, 64)    0           ['max_pooling2d_5[0][0]']        \n",
      "                                                                                                  \n",
      " batch_normalization_5 (BatchNo  (None, 47, 1, 64)   256         ['dropout_5[0][0]']              \n",
      " rmalization)                                                                                     \n",
      "                                                                                                  \n",
      " conv2d_6 (Conv2D)              (None, 47, 1, 64)    131136      ['batch_normalization_5[0][0]']  \n",
      "                                                                                                  \n",
      " max_pooling2d_6 (MaxPooling2D)  (None, 24, 1, 64)   0           ['conv2d_6[0][0]']               \n",
      "                                                                                                  \n",
      " dropout_6 (Dropout)            (None, 24, 1, 64)    0           ['max_pooling2d_6[0][0]']        \n",
      "                                                                                                  \n",
      " batch_normalization_6 (BatchNo  (None, 24, 1, 64)   256         ['dropout_6[0][0]']              \n",
      " rmalization)                                                                                     \n",
      "                                                                                                  \n",
      " concatenate (Concatenate)      (None, 165, 1, 64)   0           ['batch_normalization_4[0][0]',  \n",
      "                                                                  'batch_normalization_5[0][0]',  \n",
      "                                                                  'batch_normalization_6[0][0]']  \n",
      "                                                                                                  \n",
      " reshape (Reshape)              (None, 64, 165)      0           ['concatenate[0][0]']            \n",
      "                                                                                                  \n",
      " gru (GRU)                      (None, 20)           11220       ['reshape[0][0]']                \n",
      "                                                                                                  \n",
      " dense (Dense)                  (None, 1024)         21504       ['gru[0][0]']                    \n",
      "                                                                                                  \n",
      " dropout_7 (Dropout)            (None, 1024)         0           ['dense[0][0]']                  \n",
      "                                                                                                  \n",
      " batch_normalization_7 (BatchNo  (None, 1024)        4096        ['dropout_7[0][0]']              \n",
      " rmalization)                                                                                     \n",
      "                                                                                                  \n",
      " dense_1 (Dense)                (None, 3)            3075        ['batch_normalization_7[0][0]']  \n",
      "                                                                                                  \n",
      "==================================================================================================\n",
      "Total params: 830,615\n",
      "Trainable params: 827,671\n",
      "Non-trainable params: 2,944\n",
      "__________________________________________________________________________________________________\n"
     ]
    }
   ],
   "source": [
    "xin= Input(shape=(3000,2,1))\n",
    "x1=conv_block(xin,64,32,2,0.1)\n",
    "x2=conv_block(x1,64,32,2,0.1)\n",
    "x3=conv_block(x2,64,32,2,0.1)\n",
    "x4=conv_block(x3,64,32,2,0.1)\n",
    "x5=conv_block(x4,64,32,2,0.1)\n",
    "x6=conv_block(x5,64,32,2,0.1)\n",
    "x7=conv_block(x6,64,32,2,0.1)\n",
    "x=Concatenate(axis=1)([x5,x6,x7])\n",
    "\n",
    "x=Reshape((64,165), input_shape=(353,1,165))(x)\n",
    "\n",
    "x=GRU(20)(x)\n",
    "\n",
    "# # # x=Dropout(.1)(x)\n",
    "\n",
    "x=clf_block(x,1024,0.1)\n",
    "# # x=clf_block(x,128,0.1)\n",
    "x=Dense(3, activation='softmax')(x)\n",
    "\n",
    "model = Model(inputs=xin, outputs=x)\n",
    "model.summary()"
   ]
  },
  {
   "cell_type": "code",
   "execution_count": 20,
   "id": "e79d5822",
   "metadata": {},
   "outputs": [],
   "source": [
    "opt = tf.keras.optimizers.Adam(learning_rate=0.001)\n",
    "model.compile(optimizer=opt, \n",
    "                loss='categorical_crossentropy',\n",
    "                metrics = ['accuracy'])"
   ]
  },
  {
   "cell_type": "code",
   "execution_count": 22,
   "id": "c1463eb8",
   "metadata": {
    "scrolled": true
   },
   "outputs": [
    {
     "name": "stdout",
     "output_type": "stream",
     "text": [
      "Epoch 1/100\n",
      "1465/1465 [==============================] - 50s 30ms/step - loss: 0.4465 - accuracy: 0.7996 - val_loss: 0.2393 - val_accuracy: 0.9022\n",
      "Epoch 2/100\n",
      "1465/1465 [==============================] - 43s 29ms/step - loss: 0.1917 - accuracy: 0.9221 - val_loss: 0.1405 - val_accuracy: 0.9482\n",
      "Epoch 3/100\n",
      "1465/1465 [==============================] - 43s 29ms/step - loss: 0.1318 - accuracy: 0.9482 - val_loss: 0.1097 - val_accuracy: 0.9555\n",
      "Epoch 4/100\n",
      "1465/1465 [==============================] - 43s 29ms/step - loss: 0.1019 - accuracy: 0.9600 - val_loss: 0.0758 - val_accuracy: 0.9691\n",
      "Epoch 5/100\n",
      "1465/1465 [==============================] - 43s 29ms/step - loss: 0.0804 - accuracy: 0.9690 - val_loss: 0.0766 - val_accuracy: 0.9703\n",
      "Epoch 6/100\n",
      "1465/1465 [==============================] - 43s 29ms/step - loss: 0.0693 - accuracy: 0.9729 - val_loss: 0.0646 - val_accuracy: 0.9755\n",
      "Epoch 7/100\n",
      "1465/1465 [==============================] - 44s 30ms/step - loss: 0.0649 - accuracy: 0.9754 - val_loss: 0.0499 - val_accuracy: 0.9794\n",
      "Epoch 8/100\n",
      "1465/1465 [==============================] - 43s 29ms/step - loss: 0.0550 - accuracy: 0.9782 - val_loss: 0.0495 - val_accuracy: 0.9802\n",
      "Epoch 9/100\n",
      "1465/1465 [==============================] - 43s 29ms/step - loss: 0.0554 - accuracy: 0.9785 - val_loss: 0.0445 - val_accuracy: 0.9813\n",
      "Epoch 10/100\n",
      "1465/1465 [==============================] - 44s 30ms/step - loss: 0.0506 - accuracy: 0.9801 - val_loss: 0.0516 - val_accuracy: 0.9791\n",
      "Epoch 11/100\n",
      "1465/1465 [==============================] - 45s 30ms/step - loss: 0.0465 - accuracy: 0.9812 - val_loss: 0.0426 - val_accuracy: 0.9819\n",
      "Epoch 12/100\n",
      "1465/1465 [==============================] - 45s 31ms/step - loss: 0.0468 - accuracy: 0.9820 - val_loss: 0.0996 - val_accuracy: 0.9581\n",
      "Epoch 13/100\n",
      "1465/1465 [==============================] - 44s 30ms/step - loss: 0.0429 - accuracy: 0.9831 - val_loss: 0.0396 - val_accuracy: 0.9837\n",
      "Epoch 14/100\n",
      "1465/1465 [==============================] - 43s 29ms/step - loss: 0.0395 - accuracy: 0.9843 - val_loss: 0.0414 - val_accuracy: 0.9834\n",
      "Epoch 15/100\n",
      "1465/1465 [==============================] - 48s 33ms/step - loss: 0.0404 - accuracy: 0.9837 - val_loss: 0.0434 - val_accuracy: 0.9831\n",
      "Epoch 16/100\n",
      "1465/1465 [==============================] - 46s 31ms/step - loss: 0.0409 - accuracy: 0.9841 - val_loss: 0.0406 - val_accuracy: 0.9837\n",
      "Epoch 17/100\n",
      "1465/1465 [==============================] - 45s 31ms/step - loss: 0.0365 - accuracy: 0.9847 - val_loss: 0.0392 - val_accuracy: 0.9838\n",
      "Epoch 18/100\n",
      "1465/1465 [==============================] - 43s 29ms/step - loss: 0.0353 - accuracy: 0.9853 - val_loss: 0.0390 - val_accuracy: 0.9843\n",
      "Epoch 19/100\n",
      "1465/1465 [==============================] - 43s 29ms/step - loss: 0.0362 - accuracy: 0.9850 - val_loss: 0.0435 - val_accuracy: 0.9827\n",
      "Epoch 20/100\n",
      "1465/1465 [==============================] - 44s 30ms/step - loss: 0.0339 - accuracy: 0.9864 - val_loss: 0.0432 - val_accuracy: 0.9834\n",
      "Epoch 21/100\n",
      "1465/1465 [==============================] - 44s 30ms/step - loss: 0.0346 - accuracy: 0.9856 - val_loss: 0.0392 - val_accuracy: 0.9838\n",
      "Epoch 22/100\n",
      "1465/1465 [==============================] - 43s 29ms/step - loss: 0.0329 - accuracy: 0.9864 - val_loss: 0.0450 - val_accuracy: 0.9830\n",
      "Epoch 23/100\n",
      "1465/1465 [==============================] - 44s 30ms/step - loss: 0.0323 - accuracy: 0.9865 - val_loss: 0.0395 - val_accuracy: 0.9840\n",
      "Epoch 24/100\n",
      "1465/1465 [==============================] - 46s 31ms/step - loss: 0.0309 - accuracy: 0.9870 - val_loss: 0.0478 - val_accuracy: 0.9822\n",
      "Epoch 25/100\n",
      "1465/1465 [==============================] - 44s 30ms/step - loss: 0.0313 - accuracy: 0.9870 - val_loss: 0.0393 - val_accuracy: 0.9851\n",
      "Epoch 26/100\n",
      "1465/1465 [==============================] - 43s 30ms/step - loss: 0.0308 - accuracy: 0.9869 - val_loss: 0.0400 - val_accuracy: 0.9841\n",
      "Epoch 27/100\n",
      "1465/1465 [==============================] - 42s 29ms/step - loss: 0.0303 - accuracy: 0.9873 - val_loss: 0.0408 - val_accuracy: 0.9835\n",
      "Epoch 28/100\n",
      "1465/1465 [==============================] - 43s 29ms/step - loss: 0.0292 - accuracy: 0.9876 - val_loss: 0.0421 - val_accuracy: 0.9843\n",
      "Epoch 29/100\n",
      "1465/1465 [==============================] - 44s 30ms/step - loss: 0.0297 - accuracy: 0.9876 - val_loss: 0.0380 - val_accuracy: 0.9843\n",
      "Epoch 30/100\n",
      "1465/1465 [==============================] - 44s 30ms/step - loss: 0.0288 - accuracy: 0.9877 - val_loss: 0.0377 - val_accuracy: 0.9847\n",
      "Epoch 31/100\n",
      "1465/1465 [==============================] - 44s 30ms/step - loss: 0.0290 - accuracy: 0.9879 - val_loss: 0.0501 - val_accuracy: 0.9775\n",
      "Epoch 32/100\n",
      "1465/1465 [==============================] - 44s 30ms/step - loss: 0.0299 - accuracy: 0.9875 - val_loss: 0.0406 - val_accuracy: 0.9843\n",
      "Epoch 33/100\n",
      "1465/1465 [==============================] - 43s 30ms/step - loss: 0.0275 - accuracy: 0.9881 - val_loss: 0.0426 - val_accuracy: 0.9843\n",
      "Epoch 34/100\n",
      "1465/1465 [==============================] - 44s 30ms/step - loss: 0.0279 - accuracy: 0.9881 - val_loss: 0.0458 - val_accuracy: 0.9834\n",
      "Epoch 35/100\n",
      "1465/1465 [==============================] - 43s 29ms/step - loss: 0.0285 - accuracy: 0.9879 - val_loss: 0.0381 - val_accuracy: 0.9850\n",
      "Epoch 36/100\n",
      "1465/1465 [==============================] - 43s 29ms/step - loss: 0.0271 - accuracy: 0.9882 - val_loss: 0.0417 - val_accuracy: 0.9847\n",
      "Epoch 37/100\n",
      "1465/1465 [==============================] - 43s 29ms/step - loss: 0.0272 - accuracy: 0.9887 - val_loss: 0.0353 - val_accuracy: 0.9851\n",
      "Epoch 38/100\n",
      "1465/1465 [==============================] - 43s 29ms/step - loss: 0.0258 - accuracy: 0.9888 - val_loss: 0.0410 - val_accuracy: 0.9851\n",
      "Epoch 39/100\n",
      "1465/1465 [==============================] - 43s 29ms/step - loss: 0.0277 - accuracy: 0.9883 - val_loss: 0.0430 - val_accuracy: 0.9843\n",
      "Epoch 40/100\n",
      "1465/1465 [==============================] - 43s 29ms/step - loss: 0.0262 - accuracy: 0.9889 - val_loss: 0.0438 - val_accuracy: 0.9836\n",
      "Epoch 41/100\n",
      "1465/1465 [==============================] - 43s 29ms/step - loss: 0.0269 - accuracy: 0.9884 - val_loss: 0.0395 - val_accuracy: 0.9854\n",
      "Epoch 42/100\n",
      "1465/1465 [==============================] - 43s 29ms/step - loss: 0.0260 - accuracy: 0.9888 - val_loss: 0.0433 - val_accuracy: 0.9825\n",
      "Epoch 43/100\n",
      "1465/1465 [==============================] - 43s 29ms/step - loss: 0.0268 - accuracy: 0.9888 - val_loss: 0.0365 - val_accuracy: 0.9855\n",
      "Epoch 44/100\n",
      "1465/1465 [==============================] - 43s 29ms/step - loss: 0.0252 - accuracy: 0.9888 - val_loss: 0.0384 - val_accuracy: 0.9856\n",
      "Epoch 45/100\n",
      "1465/1465 [==============================] - 43s 29ms/step - loss: 0.0262 - accuracy: 0.9885 - val_loss: 0.0399 - val_accuracy: 0.9846\n",
      "Epoch 46/100\n",
      "1465/1465 [==============================] - 43s 29ms/step - loss: 0.0258 - accuracy: 0.9887 - val_loss: 0.0383 - val_accuracy: 0.9853\n",
      "Epoch 47/100\n",
      "1465/1465 [==============================] - 43s 29ms/step - loss: 0.0256 - accuracy: 0.9891 - val_loss: 0.0404 - val_accuracy: 0.9852\n",
      "Epoch 48/100\n",
      "1465/1465 [==============================] - 43s 29ms/step - loss: 0.0246 - accuracy: 0.9892 - val_loss: 0.0390 - val_accuracy: 0.9849\n",
      "Epoch 49/100\n",
      "1465/1465 [==============================] - 43s 29ms/step - loss: 0.0253 - accuracy: 0.9890 - val_loss: 0.0399 - val_accuracy: 0.9848\n",
      "Epoch 50/100\n",
      "1465/1465 [==============================] - 43s 29ms/step - loss: 0.0259 - accuracy: 0.9884 - val_loss: 0.0424 - val_accuracy: 0.9833\n",
      "Epoch 51/100\n",
      "1465/1465 [==============================] - 43s 29ms/step - loss: 0.0258 - accuracy: 0.9890 - val_loss: 0.0374 - val_accuracy: 0.9854\n",
      "Epoch 52/100\n",
      "1465/1465 [==============================] - 43s 29ms/step - loss: 0.0253 - accuracy: 0.9891 - val_loss: 0.0384 - val_accuracy: 0.9851\n",
      "Epoch 53/100\n",
      "1465/1465 [==============================] - 43s 29ms/step - loss: 0.0240 - accuracy: 0.9897 - val_loss: 0.0401 - val_accuracy: 0.9850\n",
      "Epoch 54/100\n",
      "1465/1465 [==============================] - 43s 29ms/step - loss: 0.0245 - accuracy: 0.9894 - val_loss: 0.0422 - val_accuracy: 0.9844\n",
      "Epoch 55/100\n",
      "1465/1465 [==============================] - 43s 29ms/step - loss: 0.0245 - accuracy: 0.9890 - val_loss: 0.0405 - val_accuracy: 0.9845\n",
      "Epoch 56/100\n"
     ]
    },
    {
     "name": "stdout",
     "output_type": "stream",
     "text": [
      "1465/1465 [==============================] - 43s 29ms/step - loss: 0.0247 - accuracy: 0.9891 - val_loss: 0.0399 - val_accuracy: 0.9836\n",
      "Epoch 57/100\n",
      "1465/1465 [==============================] - 43s 29ms/step - loss: 0.0246 - accuracy: 0.9892 - val_loss: 0.0409 - val_accuracy: 0.9854\n",
      "Epoch 58/100\n",
      "1465/1465 [==============================] - 43s 30ms/step - loss: 0.0241 - accuracy: 0.9893 - val_loss: 0.0415 - val_accuracy: 0.9851\n",
      "Epoch 59/100\n",
      "1465/1465 [==============================] - 43s 29ms/step - loss: 0.0242 - accuracy: 0.9895 - val_loss: 0.0407 - val_accuracy: 0.9851\n",
      "Epoch 60/100\n",
      "1465/1465 [==============================] - 43s 29ms/step - loss: 0.0243 - accuracy: 0.9891 - val_loss: 0.0416 - val_accuracy: 0.9838\n",
      "Epoch 61/100\n",
      "1465/1465 [==============================] - 43s 29ms/step - loss: 0.0227 - accuracy: 0.9897 - val_loss: 0.0415 - val_accuracy: 0.9855\n",
      "Epoch 62/100\n",
      "1465/1465 [==============================] - 43s 29ms/step - loss: 0.0231 - accuracy: 0.9896 - val_loss: 0.0378 - val_accuracy: 0.9854\n",
      "Epoch 63/100\n",
      "1465/1465 [==============================] - 43s 29ms/step - loss: 0.0245 - accuracy: 0.9890 - val_loss: 0.0375 - val_accuracy: 0.9857\n",
      "Epoch 64/100\n",
      "1465/1465 [==============================] - 43s 29ms/step - loss: 0.0236 - accuracy: 0.9896 - val_loss: 0.0364 - val_accuracy: 0.9858\n",
      "Epoch 65/100\n",
      "1465/1465 [==============================] - 43s 29ms/step - loss: 0.0227 - accuracy: 0.9895 - val_loss: 0.0423 - val_accuracy: 0.9851\n",
      "Epoch 66/100\n",
      "1465/1465 [==============================] - 43s 29ms/step - loss: 0.0230 - accuracy: 0.9894 - val_loss: 0.0398 - val_accuracy: 0.9852\n",
      "Epoch 67/100\n",
      "1465/1465 [==============================] - 43s 29ms/step - loss: 0.0232 - accuracy: 0.9891 - val_loss: 0.0390 - val_accuracy: 0.9844\n",
      "Epoch 68/100\n",
      "1465/1465 [==============================] - 43s 29ms/step - loss: 0.0225 - accuracy: 0.9897 - val_loss: 0.0374 - val_accuracy: 0.9851\n",
      "Epoch 69/100\n",
      "1465/1465 [==============================] - 43s 29ms/step - loss: 0.0219 - accuracy: 0.9900 - val_loss: 0.0416 - val_accuracy: 0.9856\n",
      "Epoch 70/100\n",
      "1465/1465 [==============================] - 43s 29ms/step - loss: 0.0219 - accuracy: 0.9898 - val_loss: 0.0409 - val_accuracy: 0.9854\n",
      "Epoch 71/100\n",
      "1465/1465 [==============================] - 43s 29ms/step - loss: 0.0228 - accuracy: 0.9895 - val_loss: 0.0377 - val_accuracy: 0.9855\n",
      "Epoch 72/100\n",
      "1465/1465 [==============================] - 42s 29ms/step - loss: 0.0215 - accuracy: 0.9901 - val_loss: 0.0456 - val_accuracy: 0.9851\n",
      "Epoch 73/100\n",
      "1465/1465 [==============================] - 43s 29ms/step - loss: 0.0217 - accuracy: 0.9894 - val_loss: 0.0425 - val_accuracy: 0.9851\n",
      "Epoch 74/100\n",
      "1465/1465 [==============================] - 43s 29ms/step - loss: 0.0213 - accuracy: 0.9898 - val_loss: 0.0418 - val_accuracy: 0.9840\n",
      "Epoch 75/100\n",
      "1465/1465 [==============================] - 43s 29ms/step - loss: 0.0215 - accuracy: 0.9896 - val_loss: 0.0444 - val_accuracy: 0.9838\n",
      "Epoch 76/100\n",
      "1465/1465 [==============================] - 43s 29ms/step - loss: 0.0211 - accuracy: 0.9902 - val_loss: 0.0458 - val_accuracy: 0.9846\n",
      "Epoch 77/100\n",
      "1465/1465 [==============================] - 43s 29ms/step - loss: 0.0208 - accuracy: 0.9898 - val_loss: 0.0418 - val_accuracy: 0.9855\n",
      "Epoch 78/100\n",
      "1465/1465 [==============================] - 43s 29ms/step - loss: 0.0206 - accuracy: 0.9900 - val_loss: 0.0411 - val_accuracy: 0.9850\n",
      "Epoch 79/100\n",
      "1465/1465 [==============================] - 43s 29ms/step - loss: 0.0210 - accuracy: 0.9901 - val_loss: 0.0437 - val_accuracy: 0.9860\n",
      "Epoch 80/100\n",
      "1465/1465 [==============================] - 43s 29ms/step - loss: 0.0213 - accuracy: 0.9900 - val_loss: 0.0470 - val_accuracy: 0.9828\n",
      "Epoch 81/100\n",
      "1465/1465 [==============================] - 43s 29ms/step - loss: 0.0193 - accuracy: 0.9905 - val_loss: 0.0450 - val_accuracy: 0.9833\n",
      "Epoch 82/100\n",
      "1465/1465 [==============================] - 43s 29ms/step - loss: 0.0200 - accuracy: 0.9902 - val_loss: 0.0403 - val_accuracy: 0.9853\n",
      "Epoch 83/100\n",
      "1465/1465 [==============================] - 43s 29ms/step - loss: 0.0198 - accuracy: 0.9904 - val_loss: 0.0490 - val_accuracy: 0.9847\n",
      "Epoch 84/100\n",
      "1465/1465 [==============================] - 43s 29ms/step - loss: 0.0198 - accuracy: 0.9904 - val_loss: 0.0476 - val_accuracy: 0.9848\n",
      "Epoch 85/100\n",
      "1465/1465 [==============================] - 43s 29ms/step - loss: 0.0196 - accuracy: 0.9907 - val_loss: 0.0428 - val_accuracy: 0.9840\n",
      "Epoch 86/100\n",
      "1465/1465 [==============================] - 43s 29ms/step - loss: 0.0198 - accuracy: 0.9905 - val_loss: 0.0415 - val_accuracy: 0.9848\n",
      "Epoch 87/100\n",
      "1465/1465 [==============================] - 43s 29ms/step - loss: 0.0189 - accuracy: 0.9907 - val_loss: 0.0514 - val_accuracy: 0.9817\n",
      "Epoch 88/100\n",
      "1465/1465 [==============================] - 43s 29ms/step - loss: 0.0188 - accuracy: 0.9907 - val_loss: 0.0536 - val_accuracy: 0.9844\n",
      "Epoch 89/100\n",
      "1465/1465 [==============================] - 43s 29ms/step - loss: 0.0189 - accuracy: 0.9907 - val_loss: 0.0459 - val_accuracy: 0.9852\n",
      "Epoch 90/100\n",
      "1465/1465 [==============================] - 43s 29ms/step - loss: 0.0192 - accuracy: 0.9908 - val_loss: 0.0500 - val_accuracy: 0.9836\n",
      "Epoch 91/100\n",
      "1465/1465 [==============================] - 43s 29ms/step - loss: 0.0192 - accuracy: 0.9905 - val_loss: 0.0477 - val_accuracy: 0.9840\n",
      "Epoch 92/100\n",
      "1465/1465 [==============================] - 43s 29ms/step - loss: 0.0180 - accuracy: 0.9909 - val_loss: 0.0462 - val_accuracy: 0.9843\n",
      "Epoch 93/100\n",
      "1465/1465 [==============================] - 43s 29ms/step - loss: 0.0191 - accuracy: 0.9909 - val_loss: 0.0492 - val_accuracy: 0.9817\n",
      "Epoch 94/100\n",
      "1465/1465 [==============================] - 43s 29ms/step - loss: 0.0189 - accuracy: 0.9907 - val_loss: 0.0460 - val_accuracy: 0.9842\n",
      "Epoch 95/100\n",
      "1465/1465 [==============================] - 43s 29ms/step - loss: 0.0178 - accuracy: 0.9911 - val_loss: 0.0564 - val_accuracy: 0.9835\n",
      "Epoch 96/100\n",
      "1465/1465 [==============================] - 43s 29ms/step - loss: 0.0188 - accuracy: 0.9908 - val_loss: 0.0437 - val_accuracy: 0.9844\n",
      "Epoch 97/100\n",
      "1465/1465 [==============================] - 43s 29ms/step - loss: 0.0180 - accuracy: 0.9913 - val_loss: 0.0466 - val_accuracy: 0.9838\n",
      "Epoch 98/100\n",
      "1465/1465 [==============================] - 43s 29ms/step - loss: 0.0187 - accuracy: 0.9908 - val_loss: 0.0461 - val_accuracy: 0.9842\n",
      "Epoch 99/100\n",
      "1465/1465 [==============================] - 43s 29ms/step - loss: 0.0178 - accuracy: 0.9910 - val_loss: 0.0537 - val_accuracy: 0.9836\n",
      "Epoch 100/100\n",
      "1465/1465 [==============================] - 43s 29ms/step - loss: 0.0186 - accuracy: 0.9914 - val_loss: 0.0488 - val_accuracy: 0.9851\n"
     ]
    }
   ],
   "source": [
    "EPOCHS = 100\n",
    "# callback = tf.keras.callbacks.EarlyStopping(monitor='val_accuracy', patience=2)\n",
    "#history = model.fit(X_train, y_train, epochs=EPOCHS, validation_data = (X_test,y_test),callbacks=[callback], batch_size=64)\n",
    "history = model.fit(X_train, y_train, epochs=EPOCHS, validation_data = (X_test,y_test), batch_size=64)"
   ]
  },
  {
   "cell_type": "code",
   "execution_count": 23,
   "id": "e071121a",
   "metadata": {},
   "outputs": [],
   "source": [
    "def evaluate_model(history,X_test,y_test,model):\n",
    "    scores = model.evaluate((X_test),y_test, verbose=1)\n",
    "    print(\"Accuracy: %.2f%%\" % (scores[1]*100))\n",
    "\n",
    "    \n",
    "    print(history)\n",
    "    fig1, ax_acc = plt.subplots(figsize=(8, 6))\n",
    "    \n",
    "    ax_acc.tick_params(axis=\"y\",direction=\"in\",which=\"both\",labelsize=12)\n",
    "    ax_acc.tick_params(axis=\"x\",direction=\"in\",which=\"both\",labelsize=12)\n",
    "    plt.plot(history.history['accuracy'], color='r', linewidth=2)\n",
    "    plt.plot(history.history['val_accuracy'], color='b', linewidth=2)\n",
    "    \n",
    "    csfont = {'fontname':'Times New Roman'}\n",
    "    \n",
    "    plt.xlabel('Epoch',fontsize=17,**csfont)\n",
    "    plt.ylabel('Accuracy',fontsize=17,**csfont)\n",
    "#     plt.title('Model - Accuracy')\n",
    "    plt.legend(['Training', 'Validation'], loc='lower right',prop={\"family\":'Times New Roman', \"size\":17})\n",
    "#     plt.show()\n",
    "    plt.savefig('app_type.png')\n",
    "    \n",
    "#     fig2, ax_loss = plt.subplots()\n",
    "#     plt.xlabel('Epoch')\n",
    "#     plt.ylabel('Loss')\n",
    "#     plt.title('Model- Loss')\n",
    "#     plt.legend(['Training', 'Validation'], loc='upper right')\n",
    "#     plt.plot(history.history['loss'])\n",
    "#     plt.plot(history.history['val_loss'])\n",
    "#     plt.show()\n",
    "#     target_names=['0','1','2']\n",
    "    \n",
    "    \n",
    "    \n",
    "    y_true=[]\n",
    "    for element in y_test:\n",
    "        y_true.append(np.argmax(element))\n",
    "    prediction_proba=model.predict(X_test)\n",
    "    prediction=np.argmax(prediction_proba,axis=1)\n",
    "    cnf_matrix = confusion_matrix(y_true, prediction)"
   ]
  },
  {
   "cell_type": "code",
   "execution_count": 24,
   "id": "10b1013c",
   "metadata": {},
   "outputs": [
    {
     "name": "stdout",
     "output_type": "stream",
     "text": [
      "733/733 [==============================] - 5s 6ms/step - loss: 0.0488 - accuracy: 0.9851\n",
      "Accuracy: 98.51%\n",
      "<keras.callbacks.History object at 0x000002220DB05088>\n"
     ]
    },
    {
     "data": {
      "image/png": "[encoded data removed]",
      "text/plain": [
       "<Figure size 576x432 with 1 Axes>"
      ]
     },
     "metadata": {
      "needs_background": "light"
     },
     "output_type": "display_data"
    }
   ],
   "source": [
    "from sklearn.metrics import confusion_matrix\n",
    "\n",
    "\n",
    "evaluate_model(history,X_test,y_test,model)\n",
    "y_pred=model.predict(X_test)"
   ]
  },
  {
   "cell_type": "code",
   "execution_count": 25,
   "id": "954a3ca4",
   "metadata": {},
   "outputs": [
    {
     "name": "stdout",
     "output_type": "stream",
     "text": [
      "Confusion matrix, without normalization\n"
     ]
    },
    {
     "data": {
      "image/png": "[encoded data removed]",
      "text/plain": [
       "<Figure size 720x576 with 2 Axes>"
      ]
     },
     "metadata": {
      "needs_background": "light"
     },
     "output_type": "display_data"
    }
   ],
   "source": [
    "import itertools\n",
    "def plot_confusion_matrix(cm, classes,\n",
    "                          normalize=False,\n",
    "                          title='Confusion matrix',\n",
    "                          cmap=plt.cm.Blues):\n",
    "    \"\"\"\n",
    "    This function prints and plots the confusion matrix.\n",
    "    Normalization can be applied by setting `normalize=True`.\n",
    "    \"\"\"\n",
    "    fig, ax = plt.subplots(figsize=(10, 8))\n",
    "    \n",
    "    ax.tick_params(axis=\"y\",direction=\"in\",which=\"both\")\n",
    "    ax.tick_params(axis=\"x\",direction=\"in\",which=\"both\")\n",
    "    \n",
    "    if normalize:\n",
    "        cm = cm.astype('float') / cm.sum(axis=1)[:, np.newaxis]\n",
    "        print(\"Normalized confusion matrix\")\n",
    "    else:\n",
    "        print('Confusion matrix, without normalization')\n",
    "        \n",
    "    csfont = {'fontname':'Times New Roman'}\n",
    "    plt.imshow(cm, interpolation='nearest', cmap=cmap)\n",
    "#     plt.title(title)\n",
    "    plt.colorbar()\n",
    "    tick_marks = np.arange(len(classes))\n",
    "    plt.xticks(tick_marks, classes,fontsize=12)\n",
    "    plt.yticks(tick_marks, classes,fontsize=12)\n",
    "\n",
    "    fmt = '.2f' if normalize else 'd'\n",
    "    thresh = cm.max() / 2.\n",
    "    for i, j in itertools.product(range(cm.shape[0]), range(cm.shape[1])):\n",
    "        plt.text(j, i, format(cm[i, j], fmt),\n",
    "                 horizontalalignment=\"center\",\n",
    "                 color=\"white\" if cm[i, j] > thresh else \"black\",fontsize=15)\n",
    "\n",
    "#     plt.tight_layout()\n",
    "    plt.ylabel('True label',labelpad=15, fontsize=17,**csfont)\n",
    "    plt.xlabel('Predicted label', labelpad=15,fontsize=17,**csfont)\n",
    "\n",
    "    \n",
    "    # Compute confusion matrix\n",
    "cnf_matrix = confusion_matrix(y_test.argmax(axis=1), y_pred.argmax(axis=1))\n",
    "np.set_printoptions(precision=2)\n",
    "\n",
    "# Plot non-normalized confusion matrix\n",
    "# plt.figure(figsize=(10, 10))\n",
    "plot_confusion_matrix(cnf_matrix, classes=[\"Audio\", \"Video\", \"No-type\"])\n",
    "# plt.show()\n",
    "plt.savefig('app_type CM.png')"
   ]
  },
  {
   "cell_type": "code",
   "execution_count": 26,
   "id": "4d9b936f",
   "metadata": {},
   "outputs": [
    {
     "name": "stdout",
     "output_type": "stream",
     "text": [
      "              precision    recall  f1-score   support\n",
      "\n",
      "           0      0.991     0.964     0.977      7693\n",
      "           1      0.966     0.991     0.978      7903\n",
      "           2      1.000     1.000     1.000      7836\n",
      "\n",
      "    accuracy                          0.985     23432\n",
      "   macro avg      0.985     0.985     0.985     23432\n",
      "weighted avg      0.985     0.985     0.985     23432\n",
      "\n"
     ]
    }
   ],
   "source": [
    "from sklearn import metrics\n",
    "print(metrics.classification_report(y_test.argmax(axis=1), y_pred.argmax(axis=1), digits=3))"
   ]
  }
 ],
 "metadata": {
  "kernelspec": {
   "display_name": "Python 3 (ipykernel)",
   "language": "python",
   "name": "python3"
  },
  "language_info": {
   "codemirror_mode": {
    "name": "ipython",
    "version": 3
   },
   "file_extension": ".py",
   "mimetype": "text/x-python",
   "name": "python",
   "nbconvert_exporter": "python",
   "pygments_lexer": "ipython3",
   "version": "3.7.11"
  }
 },
 "nbformat": 4,
 "nbformat_minor": 5
}
